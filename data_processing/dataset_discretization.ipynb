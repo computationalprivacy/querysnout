{
 "cells": [
  {
   "cell_type": "markdown",
   "id": "closed-excitement",
   "metadata": {},
   "source": [
    "# Dataset pre-processing\n",
    "\n",
    "Use this notebook to preprocess the datasets."
   ]
  },
  {
   "cell_type": "code",
   "execution_count": null,
   "id": "deadly-equilibrium",
   "metadata": {},
   "outputs": [],
   "source": [
    "import matplotlib.pyplot as plt\n",
    "import numpy as np\n",
    "import pandas as pd\n",
    "\n",
    "dataset_dir = '../datasets'"
   ]
  },
  {
   "cell_type": "code",
   "execution_count": null,
   "id": "loving-resident",
   "metadata": {},
   "outputs": [],
   "source": [
    "def get_num_unique(dataset):\n",
    "    _, idxs, counts = np.unique(dataset, axis=0, return_index=True, return_counts=True)\n",
    "    unique_idxs = list(idxs[counts==1])\n",
    "    return len(unique_idxs)"
   ]
  },
  {
   "cell_type": "code",
   "execution_count": null,
   "id": "conceptual-handling",
   "metadata": {},
   "outputs": [],
   "source": [
    "def discretize_dataset(dataset):\n",
    "    columns = dataset.columns\n",
    "    value_mapping = {}    \n",
    "    discrete = dataset.copy()\n",
    "    for column in columns:\n",
    "        # Compute a mapping value -> integer.\n",
    "        mapper = {v: i for i, v in enumerate(sorted(dataset[column].unique()))}\n",
    "        mapping = {i: v for i,v in mapper.items()}\n",
    "        value_mapping[column] = mapping\n",
    "        discrete[column] = [mapper[x] for x in dataset[column]]\n",
    "    return discrete"
   ]
  },
  {
   "cell_type": "markdown",
   "id": "addressed-north",
   "metadata": {},
   "source": [
    "## Adults dataset\n",
    "\n",
    "Link to the dataset: https://archive.ics.uci.edu/ml/datasets/adult. Download the dataset and save it under a directory called ```../datasets/adults```.\n",
    "\n",
    "We load the dataset train and test splits, we combine them into a dataset which we discretize and save to disk."
   ]
  },
  {
   "cell_type": "code",
   "execution_count": null,
   "id": "white-greensboro",
   "metadata": {},
   "outputs": [],
   "source": [
    "columns = [\n",
    "    \"age\",\n",
    "    \"workClass\",\n",
    "    \"fnlwgt\",\n",
    "    \"education\",\n",
    "    \"education-num\",\n",
    "    \"marital-status\",\n",
    "    \"occupation\",\n",
    "    \"relationship\",\n",
    "    \"race\",\n",
    "    \"sex\", \n",
    "    \"capital-gain\",\n",
    "    \"capital-loss\",\n",
    "    \"hours-per-week\", \n",
    "    \"native-country\",\n",
    "    \"income\"\n",
    "]"
   ]
  },
  {
   "cell_type": "code",
   "execution_count": null,
   "id": "informed-dublin",
   "metadata": {},
   "outputs": [],
   "source": [
    "adults_train = pd.read_csv(f'{dataset_dir}/adults/adult.data', names=columns)\n",
    "\n",
    "print(f'Size of adults (train): {len(adults_train)}')\n",
    "#adults_train.nunique()"
   ]
  },
  {
   "cell_type": "code",
   "execution_count": null,
   "id": "patent-nitrogen",
   "metadata": {},
   "outputs": [],
   "source": [
    "adults_test = pd.read_csv(f'{dataset_dir}/adults/adult.test', names=columns)\n",
    "\n",
    "print(f'Size of adults (test): {len(adults_test)}')\n",
    "#adults_test.nunique()"
   ]
  },
  {
   "cell_type": "code",
   "execution_count": null,
   "id": "crucial-schema",
   "metadata": {},
   "outputs": [],
   "source": [
    "adults = pd.concat((adults_train, adults_test), ignore_index=True)\n",
    "\n",
    "print(f'Size of adults (train + test): {len(adults)}')\n",
    "adults.nunique()"
   ]
  },
  {
   "cell_type": "code",
   "execution_count": null,
   "id": "adjustable-girlfriend",
   "metadata": {},
   "outputs": [],
   "source": [
    "discrete_adults = discretize_dataset(adults.drop(columns=['fnlwgt']))"
   ]
  },
  {
   "cell_type": "code",
   "execution_count": null,
   "id": "natural-personality",
   "metadata": {},
   "outputs": [],
   "source": [
    "discrete_adults.drop(columns=['income'], inplace=True)"
   ]
  },
  {
   "cell_type": "code",
   "execution_count": null,
   "id": "demanding-circulation",
   "metadata": {},
   "outputs": [],
   "source": [
    "discrete_adults.to_csv(f'{dataset_dir}/adults/discrete.csv', index=False)"
   ]
  },
  {
   "cell_type": "markdown",
   "id": "simplified-techno",
   "metadata": {},
   "source": [
    "## Census Income dataset\n",
    "\n",
    "Link to the dataset: https://archive.ics.uci.edu/ml/datasets/Census-Income+%28KDD%29. Download the dataset and save it under a directory called ```../datasets/census```.\n",
    "\n",
    "We load the dataset train and test splits, we combine them into a dataset which we discretize and save to disk."
   ]
  },
  {
   "cell_type": "code",
   "execution_count": null,
   "id": "missing-science",
   "metadata": {},
   "outputs": [],
   "source": [
    "columns = ['age', \n",
    "                'class of worker',\n",
    "                'industry code',\n",
    "                'occupation code',\n",
    "                #'adjusted gross income',\n",
    "                'education',\n",
    "                'wage per hour', \n",
    "                'enrolled in edu inst last wk',\n",
    "                'marital status',\n",
    "                'major industry code',\n",
    "                'major occupation code',\n",
    "                'race',\n",
    "                'hispanic Origin',\n",
    "                'sex',\n",
    "                'member of a labor union',\n",
    "                'reason for unemployment',\n",
    "                'full or part time employment stat',\n",
    "                'capital gains',\n",
    "                'capital losses',\n",
    "                'divdends from stocks',\n",
    "                #'federal income tax liability',\n",
    "                'tax filer status',\n",
    "                'region of previous residence',\n",
    "                'state of previous residence',\n",
    "                'detailed household and family stat',\n",
    "                'detailed household summary in household',\n",
    "                'instance weight',\n",
    "                'migration code-change in msa',\n",
    "                'migration code-change in reg',\n",
    "                'migration code-move within reg',\n",
    "                'live in this house 1 year ago',\n",
    "                'migration prev res in sunbelt',\n",
    "                'num persons worked for employer',\n",
    "                'family members under 18',\n",
    "                #'total person earnings',\n",
    "                'country of birth father',\n",
    "                'country of birth mother',\n",
    "                'country of birth self',\n",
    "                'citizenship',\n",
    "                #'total person income',\n",
    "                'own business or self employed',\n",
    "                #'taxable income amount',\n",
    "                \"fill inc questionnaire for veteran's admin\",\n",
    "                'veterans benefits',\n",
    "                'weeks worked in year',\n",
    "                'year',\n",
    "               'income']\n",
    "\n",
    "print(len(columns))"
   ]
  },
  {
   "cell_type": "code",
   "execution_count": null,
   "id": "everyday-editing",
   "metadata": {},
   "outputs": [],
   "source": [
    "census_train = pd.read_csv(f'{dataset_dir}/census/census-income.data.gz', compression='gzip', header=None, names=columns)\n",
    "census_test = pd.read_csv(f'{dataset_dir}/census/census-income.test.gz', compression='gzip', header=None, names=columns)\n",
    "\n",
    "print(f'Size of census train: {len(census_train)} and test: {len(census_test)}')"
   ]
  },
  {
   "cell_type": "code",
   "execution_count": null,
   "id": "listed-enemy",
   "metadata": {},
   "outputs": [],
   "source": [
    "census = pd.concat((census_train, census_test), ignore_index=True)\n",
    "\n",
    "print(f'Size of census (train + test): {len(census)}')\n",
    "census.nunique()"
   ]
  },
  {
   "cell_type": "code",
   "execution_count": null,
   "id": "architectural-russell",
   "metadata": {},
   "outputs": [],
   "source": [
    "census_weights = census['instance weight']\n",
    "census.drop(columns=['instance weight', 'income'], inplace=True)"
   ]
  },
  {
   "cell_type": "code",
   "execution_count": null,
   "id": "lonely-artist",
   "metadata": {},
   "outputs": [],
   "source": [
    "discrete_census = discretize_dataset(census)"
   ]
  },
  {
   "cell_type": "code",
   "execution_count": null,
   "id": "answering-remains",
   "metadata": {},
   "outputs": [],
   "source": [
    "discrete_census.to_csv(f'{dataset_dir}/census/discrete.csv', index=False)"
   ]
  },
  {
   "cell_type": "markdown",
   "id": "level-sierra",
   "metadata": {},
   "source": [
    "## Car insurance policy dataset\n",
    "Link to dataset https://archive.ics.uci.edu/ml/datasets/Insurance+Company+Benchmark+%28COIL+2000%29. Download the dataset and save it under a directory called ```../datasets/insurance```.\n"
   ]
  },
  {
   "cell_type": "code",
   "execution_count": null,
   "id": "secret-binary",
   "metadata": {},
   "outputs": [],
   "source": [
    "insurance_train = pd.read_csv(f'{dataset_dir}/insurance/ticdata2000.txt', header=None, sep='\\t')\n",
    "print(insurance_train.shape)\n",
    "insurance_eval = pd.read_csv(f'{dataset_dir}/insurance/ticeval2000.txt', header=None, sep='\\t')\n",
    "print(insurance_eval.shape)"
   ]
  },
  {
   "cell_type": "code",
   "execution_count": null,
   "id": "isolated-washer",
   "metadata": {},
   "outputs": [],
   "source": [
    "insurance = pd.concat((insurance_train[insurance_train.columns[:-1]], insurance_eval), axis=0)"
   ]
  },
  {
   "cell_type": "code",
   "execution_count": null,
   "id": "royal-jewel",
   "metadata": {},
   "outputs": [],
   "source": [
    "discrete_insurance = discretize_dataset(insurance[insurance.columns[:43]])"
   ]
  },
  {
   "cell_type": "code",
   "execution_count": null,
   "id": "commercial-idaho",
   "metadata": {},
   "outputs": [],
   "source": [
    "discrete_insurance.to_csv(f'{dataset_dir}/insurance/discrete.csv', index=False)"
   ]
  }
 ],
 "metadata": {
  "kernelspec": {
   "display_name": "apa",
   "language": "python",
   "name": "apa"
  },
  "language_info": {
   "codemirror_mode": {
    "name": "ipython",
    "version": 3
   },
   "file_extension": ".py",
   "mimetype": "text/x-python",
   "name": "python",
   "nbconvert_exporter": "python",
   "pygments_lexer": "ipython3",
   "version": "3.9.1"
  }
 },
 "nbformat": 4,
 "nbformat_minor": 5
}
